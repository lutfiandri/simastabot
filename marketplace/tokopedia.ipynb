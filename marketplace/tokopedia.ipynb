{
 "cells": [
  {
   "cell_type": "code",
   "execution_count": 3,
   "metadata": {},
   "outputs": [
    {
     "name": "stderr",
     "output_type": "stream",
     "text": [
      "/tmp/ipykernel_691618/2117729416.py:14: DeprecationWarning: desired_capabilities has been deprecated, please pass in an Options object with options kwarg\n",
      "  driver = webdriver.Remote(command_executor=\"127.0.0.1:4444\", options=options, desired_capabilities=DesiredCapabilities.FIREFOX)\n"
     ]
    },
    {
     "name": "stdout",
     "output_type": "stream",
     "text": [
      "Found 66 elements\n"
     ]
    }
   ],
   "source": [
    "\n",
    "\n",
    "from selenium import webdriver\n",
    "from selenium.webdriver.firefox.service import Service\n",
    "from selenium.webdriver.common.keys import Keys\n",
    "from selenium.webdriver.common.by import By\n",
    "from selenium.webdriver.common.desired_capabilities import DesiredCapabilities\n",
    "import time\n",
    "\n",
    "# Setting up the webdriver for Firefox\n",
    "options = webdriver.FirefoxOptions()\n",
    "options.add_argument('--disable-gpu')\n",
    "options.add_argument('--start-maximized')\n",
    "\n",
    "# Creating an instance of Firefox\n",
    "driver = webdriver.Remote(command_executor=\"127.0.0.1:4444\", options=options, desired_capabilities=DesiredCapabilities.FIREFOX)\n",
    "\n",
    "# Navigating to Facebook\n",
    "driver.get(\"https://www.tokopedia.com/search?ob=23&page=3&q=processor%20i3&rf=true&st=product&shop_tier=2\")\n",
    "\n",
    "driver.execute_script('window.scrollTo(0, 500);')\n",
    "time.sleep(3)\n",
    "driver.execute_script('window.scrollTo(0, 1500);')\n",
    "time.sleep(3)\n",
    "driver.execute_script('window.scrollTo(0, 2500);')\n",
    "time.sleep(3)\n",
    "driver.execute_script('window.scrollTo(0, 3500);')\n",
    "time.sleep(3)\n",
    "\n",
    "\n",
    "elements = driver.find_elements(By.CSS_SELECTOR, '[data-testid=\"spnSRPProdName\"]')\n",
    "\n",
    "# Printing the number of elements found\n",
    "print(f\"Found {len(elements)} elements\")\n",
    "\n"
   ]
  },
  {
   "cell_type": "code",
   "execution_count": 4,
   "metadata": {},
   "outputs": [],
   "source": [
    "def get_numeric_price(text_price: str) -> int:\n",
    "    numeric_string = text_price.replace(\"Rp\", \"\").replace(\".\", \"\")\n",
    "    numeric_value = int(numeric_string)\n",
    "    return numeric_value"
   ]
  },
  {
   "cell_type": "code",
   "execution_count": 5,
   "metadata": {},
   "outputs": [
    {
     "name": "stdout",
     "output_type": "stream",
     "text": [
      "[{'name': 'Intel Core i3-12100 3.3GHz Up To 4.3GHz Processor Intel Socket 1700 - Resmi', 'link': 'https://ta.tokopedia.com/promo/v1/clicks/8a-xgVY2gmUEH_KRHpHNHpedbm-xgVY789CBUsthbm-Orfua9fBjUstiHmUDUSz2Q31i6sJf6AJNH_ypH_yDUMoFyaUEop1Fbm-FQRo2PcB5QiUEHZFiy3hSUstirRzW9fFp9fFa9fFhUiFiQSuWyMua9fYM9fVjraUEoiFiQSuWyMua9fVjrOYag9Ji6sUFbm-sy9zwq3zpUs2QHsjRbAUN6ZFp6_eh9ZFiQBYsy3Njq3zxPcuwy3zpUstfbm-xyBY7g9o7Usti_iUDUSC5rRzwy3hSUstiyRCs9RotQRCwP3NhUiFiPMuarfB5QiUEUSyaUiFiy3zwrfo5rM1i6sHRoadf6A1NHpUpos1foprdomFirpowQcYSUstig9BGqMzUZMggQj2fgAo6QJBkQfBoe7BpZ3O6HcoD692qu7gN3_-Sq1Y2Z9P-q9P2y_-3o3ea69BqzsBE3_UN8u2_Z_g-qjV2_JoGP3Uao32q17jfZ3Oo8jOku9BvucWd_VPz8VBk39z6z71p_BHFo1Ok3_zHu71O_32oHO2J392oqBjp33B-r7BW69BxufzFyMFNqO2yeMgxuOV2_fB-P7B2PfBiH72F3s-DPuKpeSBiHBUh3_oZgMV913Bvq1BRZ3BRq3UpZSCqHMhO3Ao6QfUpeMgxuOV2_fB-P7B2PfBs3VgDyfNDgMzIzMNs81jfZ3OR8BxE__u6zJydgjPR83-I6_oMZIxp_uPdPMep8AxsHO-7gjxdqBB2Z9o-QjNkysoGQVKaZSBiHfzE3Bo-ojBkZ_-oq_e7_7zuoJO1ypz6uJOE_32SP7NAZ9o-QjNkysoGQVKp_Mhg3J2ky1o-ojBk_9xo1peh_92o8jNkz_uo8j77_92uH7N_Zsjibm-sQIupPcua9fBj9RyaUstOH_rdoiFiyfV7g3P5rSBwrRuSgfupPVYxPIzaq3-OPc1i6BDiHpj7HZUDUsHN6_ji9ZFirI-2yfuwyMBjUstRo_nDUMP5y3hwq3ei6sUDUMg2QMVD9R-BQI-xQMWwy3zpyfYagZUEoAHRbsUOH_HdH_jpH_yN6AHDUSVOg9-N9R-BQI-xQMWwrfo5rM1i6snXHseFoAUpH_KpoA1ao_KRopoY?pub_domain=0&src=search&is_search=1&keywords=processor+i3&r=https%3A%2F%2Fwww.tokopedia.com%2Ftonixcomp%2Fintel-core-i3-12100-3-3ghz-up-to-4-3ghz-processor-intel-socket-1700-resmi%3FextParam%3Divf%253Dfalse%26src%3Dtopads&pub_unit=0&dv=desktop&t=desktop&management_type=1&page=3&ob=23&pub_id=0', 'price': 2055000, 'price_original': 2232000}, {'name': 'Intel Core i3 12100 4 Core 8 Thread LGA1700 AlderLake Processor 12100', 'link': 'https://ta.tokopedia.com/promo/v1/clicks/8a-xgVY2gmUEH_yFHp1No_Jfbm-xgVY789CBUsthbm-Orfua9fBjUstiHmUDUSz2Q31i6sJf6AJNH_ypH_yDUMoFyaUEosnFbm-FQRo2PcB5QiUEHiFiy3hSUstirRzW9fFp9fFa9fFhUiFiQSuWyMua9fYM9fVjraUEoiFiQSuWyMua9fVjrOYag9Ji6sUFbm-sy9zwq3zpUs2QHsjRbAUN6ZFp6_eh9ZFiQBYsy3Njq3zxPcuwy3zpUstfbm-xyBY7g9o7Usti_iUDUSC5rRzwy3hSUstiyRCs9RotQRCwP3NhUiFiPMuarfB5QiUEUSyaUiFiy3zwrfo5rM1i6sHaoadpHAJR6_1FHpnpHsJpbm-pHOYDQfri6i-B812kgJxGgBBXZSgjH7NDZ325q1OAZ9o-Q1dFyfFN8B29zSBgHMP2_fB-P7B2PfBxHByOgAUN8u2c692gHsBN3Bo-ojBke3BHe72OysUOqB2_Z_g-Q1OE_32u81Y1qRxHuOVd332gPJNIz_o61pnO_32goJh9z_uoqj7p3jzg8jOk3_ogq1BpZ37N83V9gICiQAB03BxmgMV913Bvq1BRZ3BRq3UpZSCqHMhO3Aom83Ua1sVgHO-MyuPzq1Y2Z9P-q9P2ysoGrVtaQIuyH7N5ysomgMV913Bvq1BRZ3BRq3oyuMhsQMhMgJPcQMoNZ_g-Q9PE3I2oo1NJzsxMzRPNyjrNHfgU8IoouRxfgAod6cHp1SzMZIxk33B-r7BX_M2iH72D3A-G83UpgI2q17jfZ32-HjN2oAooqBJp_32CH1NE392oucoE_jo-r7BX_M2iH72D3Ao6QVByZM2xe7jfZ32-HjY_oAu68BVd_32oH1Nk__oo8jO2gBJYvZUDUMoDP9o7g9-wq3zwPsUi6se7oAKObm-sy9zBgfYa8uYpP3PSg9o79fV7PI-2ySu7gZUE3aUp6_ehUiFiHpjN6Z-Pbm-SrMYOrVYpPI-xPcuS8ZUE3pJDHB7DUSCaq3oB9f-2gmUEosnFbm-SQfVD9fBjUstabm-Mq3NxQVYag3hay3N09fVjrfo5rM1i6sHOoidd6_H76_UNo_rhoprDUSVOg9-N9R-BQI-xQMWwrfo5rM1i6snXH_UF6AUaHAjpopJp6_HpHpgY?management_type=1&pub_unit=0&pub_domain=0&src=search&pub_id=0&keywords=processor+i3&dv=desktop&is_search=1&t=desktop&ob=23&r=https%3A%2F%2Fwww.tokopedia.com%2Fanandamcomputer%2Fintel-core-i3-12100-4-core-8-thread-lga1700-alderlake-processor-12100%3FextParam%3Divf%253Dfalse%26src%3Dtopads&page=3', 'price': 2079000, 'price_original': 2079000}, {'name': 'Intel Core i3 13100 - 4 Core 8 Threads 4.50GHz Processor', 'link': 'https://ta.tokopedia.com/promo/v1/clicks/8a-xgVY2gmUEH_KN6AjOHsrdbm-xgVY789CBUsthbm-Orfua9fBjUstiHmUDUSz2Q31i6sJf6AJNH_ypH_yDUMoFyaUEosnFbm-FQRo2PcB5QiUEHaFiy3hSUstirRzW9fFp9fFa9fFhUiFiQSuWyMua9fYM9fVjraUEoiFiQSuWyMua9fVjrOYag9Ji6sUFbm-sy9zwq3zpUs2QHsjRbAUN6ZFp6_eh9ZFiQBYsy3Njq3zxPcuwy3zpUstfbm-xyBY7g9o7Usti_iUDUSC5rRzwy3hSUstiyRCs9RotQRCwP3NhUiFiPMuarfB5QiUEUSyaUiFiy3zwrfo5rM1i6sHhomdOosH76_rNoAKfosjhbm-pHOYDQfri6i-B812kgJxGgBBXZSgjH7NDZ325q1OAZ9o-Q1dFyfFN8B29zSBgHMP2_fB-P7B2PfBxHByOgAUN8u2c692gHsBN3Bo-ojBke3BHe72OysUOqB2_Z_g-Q1OE_32u81Y1qRxHuOVd332gPJNIz_o61pnO_32goJh9z_uoqj7p3jzg8jOk3_ogq1BpZ37N83V9gICiQAB03BxmgMV913Bvq1BRZ3BRq3UpZSCqHMhO3Aom83Ua1sVgHO-MyuPzq1Y2Z9P-q9P2ysoGrVtaQIuyH7N5ysomgMV913Bvq1BRZ3BRq3oyuMhsQMhMgJPcQMoNZ_g-Q9PE3I2oo1NJzsxMzRPNyjrNHfgU8IoouRxfgAod6cHp1SzMZIxk33B-r7BX_M2iH72D3A-G83UpgI2q17jfZ32-HjN_oAz6qBBN_uzuP7O1z_uoqMDF_MB-r7BX_M2iH72D3Ao6QVByZM2xe7jfZ32-H1Y_oAC6qBjO_M2SoJNE1_uozcrhZ3dFvZUDUMoDP9o7g9-wq3zwPsUi6se7oAKObm-sy9zBgfYa8uYpP3PSg9o79fV7PI-2ySu7gZUE3aUp6_ehUiFiHpjN6Z-Pbm-SrMYOrVYpPI-xPcuS8ZUE3pJDHB7DUSCaq3oB9f-2gmUEosnFbm-SQfVD9fBjUstabm-Mq3NxQVYag3hay3N09fVjrfo5rM1i6sH7HZdRoArRHsy7osH7HpyDUSVOg9-N9R-BQI-xQMWwrfo5rM1i6snXH_Ja6AHRopKhH_jaHsjFo_VY?src=search&t=desktop&dv=desktop&management_type=1&pub_domain=0&pub_unit=0&keywords=processor+i3&page=3&is_search=1&r=https%3A%2F%2Fwww.tokopedia.com%2Fanandamcomputer%2Fintel-core-i3-13100-4-core-8-threads-4-50ghz-processor%3FextParam%3Divf%253Dfalse%26src%3Dtopads&pub_id=0&ob=23', 'price': 2527000, 'price_original': 2527000}, {'name': 'Intel Core i5 13500 - Cache 24MB| Processor Intel Socket LGA 1700', 'link': 'https://ta.tokopedia.com/promo/v1/clicks/8a-xgVY2gmUEH_Kp6A1popH7bm-xgVY789CBUsthbm-Orfua9fBjUstiHmUDUSz2Q31i6sJf6AJNH_ypH_yDUMoFyaUEop1Fbm-FQRo2PcB5QiUEomFiy3hSUstiy3h79fWB89P5rMzwgcuMy9uDPmUDUMNOQ3-BrBY5gBYxgIHi6syDUMNOQ3-BrBYxgIowrMuhUstaHmFiyfV79fBjraUE3pUNoaFa6_jDHpj7Hu7DUMNwyfVXgcBjy9zB9fVjraUEoiFiy3-wPcupPmUEUjdibm-FQRo79fVDgaUEUMzBgiUDUSgBrSo2Qfdi6i-fHiUDUMVj9RosQR-BUsthoAjdbsUhHAHDUSHp9fh5gaUEUMuNZM2jZJ2M33NGPMep_Mh-qMY2_1o-r7BW_sCsQABE3BPc8ujagfBvq1BRZ3BRq3JausujHsBN3jyN8Bja69Bq17jfZ32Cq1hAZSuiHsuk3Bo-ojBW_92oqBuN_Oz08Jh919xgqBB7_jPVH7N_HAuoqBj7_VPVo1Ok__oqzVBE_32gHOB2Z9o-Q_BNyuPjrc-D63Wq3J-MyuPzq1Y2Z9P-q9P2ysoGrVtaQIuyH7-Nys-ZHujp1MgxuOV2_fB-P7B2PfBiH72F3s-DPuKp_MYiH7-MyuPzq1Y2Z9P-q9P2yOx3QcoXQcgjz7gXyRB-ojBWPR2y8j7O_jzc6cgIPRBizpjpgjxdr7O98IgjHRKdypoZPcgU8c2gq1BpZ3N6qMUpZMhyHj2Nysoj8B2_Z_g-qjja_9j7H1Y1Z9BozVJO_Bz08jN1ypC617BpZ3N6qMUpZMhyH7ND3uxGqMVAZ_g-qj7F_uH7o1OEgRB6uVBR_BzSP7YJypo617tNUiFiyfhOrRzBrBY2gVYfHiUEo_JR6AyDUMoxPcuSQR-N9RoOgfPBrRzwy9z7rMBiP9zBUs2QUsHNoAJibmUp6_jNUB7DUMVDPcuaQMV7guY0g9BRQR-jUstirI-5yfuprfYaUcBXPcuDUcjOUiFirI-2yfuwyMBjUstRo_nDUMP5y3hwq3ei6sUDUMDaqOYjq9o7y3NsguYpyfYagZUEHmdFo_jRHAKaH_JOopnNopKhos1DUMg2QMVD9R-BQI-xQMWwy3zpyfYagZUEH_rRoiddoArhoArdHpJaHAr7bm-hP3ua8uYag3hay3N09RosQR-BUstFbsUNosjO6_1NoAeN6_JaosPY?ob=23&t=desktop&r=https%3A%2F%2Fwww.tokopedia.com%2Ftonixcomp%2Fintel-core-i5-13500-cache-24mb-processor-intel-socket-lga-1700%3FextParam%3Divf%253Dfalse%26src%3Dtopads&pub_domain=0&dv=desktop&pub_id=0&keywords=processor+i3&src=search&pub_unit=0&is_search=1&page=3&management_type=1', 'price': 4199999, 'price_original': 4500000}, {'name': 'Intel Core i5 12400 Box 2.5GHz LGA1700 Processor Alder Lake', 'link': 'https://ta.tokopedia.com/promo/v1/clicks/8a-xgVY2gmUEH_eRoAnao_Kfbm-xgVY789CBUsthbm-Orfua9fBjUstiHmUDUSz2Q31i6sJf6AJNH_ypH_yDUMoFyaUEosnFbm-FQRo2PcB5QiUEoZFiy3hSUstiy3h79fWB89P5rMzwgcuMy9uDPmUDUMNOQ3-BrBY5gBYxgIHi6syDUMNOQ3-BrBYxgIowrMuhUstaHmFiyfV79fBjraUE3pUNoaFa6_jDHpj7Hu7DUMNwyfVXgcBjy9zB9fVjraUEoiFiy3-wPcupPmUEUjdibm-FQRo79fVDgaUEUMzBgiUDUSgBrSo2Qfdi6i-fHiUDUMVj9RosQR-BUsthHpyObsyFH_yDUSHp9fh5gaUEUMuNZM2jZJ2M33NGPMep_Mh-qMY2_1o-r7BW_sCsQABE3BPc8ujagfBvq1BRZ3BRq3JausujHsBN3jyN8Bja69Bq17jfZ32Cq1hAZSuiHsuk3Bo-ojBW_92oqBuN_Oz08Jh919xgqBB7_jPVH7N_HAuoqBj7_VPVo1Ok__oqzVBE_32gHOB2Z9o-Q_BNyuPjrc-D63Wq3J-MyuPzq1Y2Z9P-q9P2ysoGrVtaQIuyH7-Nys-ZHujp1MgxuOV2_fB-P7B2PfBiH72F3s-DPuKp_MYiH7-MyuPzq1Y2Z9P-q9P2yOx3QcoXQcgjz7gXyRB-ojBWPR2y8j7O_jzc6cgIPRBizpjpgjxdr7O98IgjHRKdypoZPcgU8c2gq1BpZ3N6qMUpZMhyHj2Nysoj8B2_Z_g-qjja_Sj7P7NJu_V68BBd_OzV81Y1e_--q9P2yp-6PMoWuMgsHBgtyfO6Q7BkQfBo8jud_c2gH7OkgRP6uJjO_92oH7YJ13BM1_7YUiFiyfhOrRzBrBY2gVYfHiUEHseO6_rDUMoxPcuSQR-N9RoOgfPBrRzwy9z7rMBiP9zBUs2QUsHNoAJibmUp6_jNUB7DUMVDPcuaQMV7guY0g9BRQR-jUstirI-5yfuprfYaUcBXPcuDUcjOUiFigR-5P9CwrRzay9zBgRji6BDhbA-Pbm-FrMBsguYiq3ei6syFHmFigfYxQVY2gmUEHiFiqp-09fz2rRzxQMoB9RosQR-BUstFbsnO6_rF6AUhH_1RHAjR6AJfoZFigMBXy3hwrMuDrMVXqOYxgIosQR-BUsthoAyNbsyF6_1NHAyNoA1RHpyDUSVOg9-N9R-BQI-xQMWwrfo5rM1i6snXHAjaHpUOo_UOo_HpHpUpH97?keywords=processor+i3&r=https%3A%2F%2Fwww.tokopedia.com%2Fanandamcomputer%2Fintel-core-i5-12400-box-2-5ghz-lga1700-processor-alder-lake%3FextParam%3Divf%253Dfalse%26src%3Dtopads&is_search=1&ob=23&dv=desktop&page=3&management_type=1&t=desktop&pub_unit=0&pub_domain=0&src=search&pub_id=0', 'price': 2974000, 'price_original': 2974000}, {'name': 'Processor Intel Core i3 13100F 3.40GHZ 4 CORE 8 THREADS RAPTOR LAKE -', 'link': 'https://www.tokopedia.com/komputermedan/processor-intel-core-i3-13100f-3-40ghz-4-core-8-threads-raptor-lake?extParam=ivf%3Dfalse%26shop_tier%3D2%26src%3Dsearch&refined=true', 'price': 2054900, 'price_original': 2054900}, {'name': 'Processor intel Core i3 4160 Ghz tray LGA 1150 + Fan', 'link': 'https://www.tokopedia.com/fjcom/processor-intel-core-i3-4160-ghz-tray-lga-1150-fan?extParam=ivf%3Dfalse%26shop_tier%3D2%26src%3Dsearch&refined=true', 'price': 580000, 'price_original': 580000}, {'name': 'Processor Intel Core i3 13100 4 Core 8 Threads 4.50GHz LGA 1700', 'link': 'https://www.tokopedia.com/rakitancom/processor-intel-core-i3-13100-4-core-8-threads-4-50ghz-lga-1700?extParam=ivf%3Dfalse%26shop_tier%3D2%26src%3Dsearch&refined=true', 'price': 2469000, 'price_original': 2469000}, {'name': 'Intel Core I3 10105 Box 3.7 GHz Processor LGA1200 Comet Lake', 'link': 'https://www.tokopedia.com/sj-com/intel-core-i3-10105-box-3-7-ghz-processor-lga1200-comet-lake?extParam=ivf%3Dfalse%26shop_tier%3D2%26src%3Dsearch%26whid%3D21653&refined=true', 'price': 1665000, 'price_original': 1665000}, {'name': 'Processor Intel Core i3 10100F 3.6Ghz Up To 4.3Ghz', 'link': 'https://www.tokopedia.com/ithouse/processor-intel-core-i3-10100f-3-6ghz-up-to-4-3ghz?extParam=ivf%3Dfalse%26shop_tier%3D2%26src%3Dsearch&refined=true', 'price': 2420000, 'price_original': 2420000}, {'name': 'PROCESSOR INTEL CORE I3-10100F Box - Intel Core i3 10100f', 'link': 'https://www.tokopedia.com/ezzycom/processor-intel-core-i3-10100f-box-intel-core-i3-10100f?extParam=ivf%3Dfalse%26shop_tier%3D2%26src%3Dsearch&refined=true', 'price': 1030000, 'price_original': 1030000}, {'name': 'Processor Intel Core i3-10100F TRAY 3.6GHz LGA1200 NO FAN - NO BOX', 'link': 'https://www.tokopedia.com/dbklikse/processor-intel-core-i3-10100f-tray-3-6ghz-lga1200-no-fan-no-box?extParam=ivf%3Dfalse%26shop_tier%3D2%26src%3Dsearch&refined=true', 'price': 1040000, 'price_original': 1040000}, {'name': 'Processor Intel Core I3-10105F Box 3.7GHz LGA1200 - Intel I3 10105F', 'link': 'https://www.tokopedia.com/dbklikse/processor-intel-core-i3-10105f-box-3-7ghz-lga1200-intel-i3-10105f?extParam=ivf%3Dfalse%26shop_tier%3D2%26src%3Dsearch&refined=true', 'price': 1180000, 'price_original': 1180000}, {'name': 'PROCESSOR INTEL CORE i3 4150 TRAY HASWELL PROSESOR i3 SOCKET LGA 1150', 'link': 'https://www.tokopedia.com/sj-com/processor-intel-core-i3-4150-tray-haswell-prosesor-i3-socket-lga-1150?extParam=ivf%3Dfalse%26shop_tier%3D2%26src%3Dsearch%26whid%3D21653&refined=true', 'price': 193000, 'price_original': 193000}, {'name': 'Processor Intel Core I3 10100 Box Comet Lake Socket LGA 1200', 'link': 'https://www.tokopedia.com/tpediapc/processor-intel-core-i3-10100-box-comet-lake-socket-lga-1200?extParam=ivf%3Dfalse%26shop_tier%3D2%26src%3Dsearch&refined=true', 'price': 1640000, 'price_original': 1640000}, {'name': 'Intel Core i3 10105 - 4 Cores 8 Threads 4.4Ghz Box', 'link': 'https://ta.tokopedia.com/promo/v1/clicks/8a-xgVY2gmUEH_epopjposHObm-xgVY789CBUsthbm-Orfua9fBjUstiHmUDUSz2Q31i6sJf6AJNH_ypH_yDUMoFyaUEos1Fbm-FQRo2PcB5QiUEoiFiy3hSUstiqfuNPfYagVY7QOYFrMYjP3o79fzBgMVOQIeibm-XP3Oig9-wQfgwy3zpUstfbm-XP3Oig9-wy3zp9R-BrZUEHsnDUMoxPVY2gIHi6BDa6_rDHsjNbAHNoAVPbm-X9foxQMz2gcV7guYxgIHi6syDUMVi9RzBrRei6i-6UiFircYpPVYxQcri6i-jg3yibm-fg9-pq3YXUstiPsUibm-xgVYpyfYagZUEH_JR6ZdfoA17bm-pHOYDQfri6i-B812kgJxGgBBXZSgjH7NDZ325q1OAZ9o-Q1dFyfFN8B29zSBgHMP2_fB-P7B2PfBxHByOgAUN8u2c692gHsBN3Bo-ojBke3BHe72OysUOqB2_Z_g-Q1OE_32u81Y1qRxHuOVd332gPJNIz_o61pnO_32goJh9z_uoqj7p3jzg8jOk3_ogq1BpZ37N83V9gICiQAB03BxmgMV913Bvq1BRZ3BRq3UpZSCqHMhO3Aom83Ua1sVgHO-MyuPzq1Y2Z9P-q9P2ysoGrVtaQIuyH7N5ysomgMV913Bvq1BRZ3BRq3oyuMhsQMhMgJPcQMoNZ_g-Q9PE3I2oo1NJzsxMzRPNyjrNHfgU8IoouRxfgAod6VjaZ3BHe72E3_UN8u2363BsQ_jpyp-uq1Y2Z9B6qMoO_jzz81O1z_o68BJa_32zoJNJyfBHe72E3_UN8u23692qu7gN3_-Sq1Y2Z9B6qMWO_32o8JYJe926zcod_92zHJNJu3BM1_7YUiFiyfhOrRzBrBY2gVYfHiUEHseO6_rDUMoxPcuSQR-N9RoOgfPBrRzwy9z7rMBiP9zBUs2QUsHNoAJibmUp6_jNUB7DUMPaQRuF9Ro7rMV7g3PNUs2QHZFa9ZFirI-2yfuwyMBjUstfo_nDUMP5y3hwq3ei6sUDUMg2QMVD9R-BQI-xQMWwy3zpyfYagZUEH_HOoaddopHN6AHRHpKdHsjDUSVOg9-N9R-BQI-xQMWwrfo5rM1i6snXHsHRH_rpH_1F6_JaosKR6_-Y?pub_domain=0&is_search=1&ob=23&src=search&management_type=1&t=desktop&pub_id=0&pub_unit=0&r=https%3A%2F%2Fwww.tokopedia.com%2Fanandamcomputer%2Fintel-core-i3-10105-4-cores-8-threads-4-4ghz-box%3FextParam%3Divf%253Dfalse%26src%3Dtopads&keywords=processor+i3&page=3&dv=desktop', 'price': 1648000, 'price_original': 1648000}, {'name': 'Processor Intel Core I3-10105F Box 3.7GHz LGA1200 - Intel I3 10105F', 'link': 'https://www.tokopedia.com/dbklikindonesia/processor-intel-core-i3-10105f-box-3-7ghz-lga1200-intel-i3-10105f?extParam=ivf%3Dfalse%26shop_tier%3D2%26src%3Dsearch&refined=true', 'price': 1180000, 'price_original': 1180000}, {'name': 'INTEL CORE I3 10100F | Processor Intel Gen 10 Comet Lake LGA 1200', 'link': 'https://www.tokopedia.com/tpediapc/intel-core-i3-10100f-processor-intel-gen-10-comet-lake-lga-1200?extParam=ivf%3Dfalse%26shop_tier%3D2%26src%3Dsearch&refined=true', 'price': 1175000, 'price_original': 1175000}, {'name': 'Intel Core i3 10100F Processor Comet Lake-S LGA 1200 4 Core Gen 10', 'link': 'https://www.tokopedia.com/duniastorage/intel-core-i3-10100f-processor-comet-lake-s-lga-1200-4-core-gen-10?extParam=ivf%3Dfalse%26shop_tier%3D2%26src%3Dsearch&refined=true', 'price': 1175000, 'price_original': 1175000}, {'name': 'Processor Intel Core I3 12100 Box Alder Lake Socket LGA 1700', 'link': 'https://www.tokopedia.com/redfalcon/processor-intel-core-i3-12100-box-alder-lake-socket-lga-1700?extParam=ivf%3Dfalse%26shop_tier%3D2%26src%3Dsearch&refined=true', 'price': 1899000, 'price_original': 1899000}, {'name': 'Processor INTEL Core i3-12100F Box 3.3GHz LGA1700- Intel I3 12100F Box', 'link': 'https://www.tokopedia.com/dbclick/processor-intel-core-i3-12100f-box-3-3ghz-lga1700-intel-i3-12100f-box?extParam=ivf%3Dfalse%26shop_tier%3D2%26src%3Dsearch%26whid%3D70055&refined=true', 'price': 1660000, 'price_original': 1660000}, {'name': 'Processor Intel Core I3 10105 Box Comet Lake Socket LGA 1200', 'link': 'https://www.tokopedia.com/ezzycom/processor-intel-core-i3-10105-box-comet-lake-socket-lga-1200?extParam=ivf%3Dfalse%26shop_tier%3D2%26src%3Dsearch&refined=true', 'price': 1519000, 'price_original': 1950000}, {'name': 'Processor Intel Core i3 13100', 'link': 'https://www.tokopedia.com/omegapremium/processor-intel-core-i3-13100?extParam=ivf%3Dfalse%26shop_tier%3D2%26src%3Dsearch&refined=true', 'price': 2459000, 'price_original': 2459000}, {'name': 'Processor Intel Core I3 13100F Box Raptor Lake Socket LGA 1700', 'link': 'https://www.tokopedia.com/redfalcon/processor-intel-core-i3-13100f-box-raptor-lake-socket-lga-1700?extParam=ivf%3Dfalse%26shop_tier%3D2%26src%3Dsearch&refined=true', 'price': 1915000, 'price_original': 1915000}, {'name': 'Processor Intel Core I3 13100 Box Raptor Lake Socket LGA 1700', 'link': 'https://www.tokopedia.com/reformasicompute/processor-intel-core-i3-13100-box-raptor-lake-socket-lga-1700?extParam=ivf%3Dfalse%26shop_tier%3D2%26src%3Dsearch&refined=true', 'price': 2640000, 'price_original': 2640000}, {'name': 'Processor Intel Core I3-10100 Box LGA1200 - Intel Core I3 10100 Box', 'link': 'https://www.tokopedia.com/dbklikindonesia/processor-intel-core-i3-10100-box-lga1200-intel-core-i3-10100-box?extParam=ivf%3Dfalse%26shop_tier%3D2%26src%3Dsearch&refined=true', 'price': 1640000, 'price_original': 1640000}, {'name': 'Processor Intel Core i3 12100', 'link': 'https://www.tokopedia.com/omegapremium/processor-intel-core-i3-12100?extParam=ivf%3Dfalse%26shop_tier%3D2%26src%3Dsearch&refined=true', 'price': 2109000, 'price_original': 2109000}, {'name': 'Processor Intel Core I3-10100F Box LGA1200 - Proc Intel Core I3 10100F', 'link': 'https://www.tokopedia.com/dbklikmalang-21/processor-intel-core-i3-10100f-box-lga1200-proc-intel-core-i3-10100f?extParam=ivf%3Dfalse%26shop_tier%3D2%26src%3Dsearch&refined=true', 'price': 1180000, 'price_original': 1180000}, {'name': 'Processor Intel Core i3 10105 3.7 GHz BOX SOCKET 1200 GARANSI 3 TAHUN', 'link': 'https://www.tokopedia.com/superstorecom/processor-intel-core-i3-10105-3-7-ghz-box-socket-1200-garansi-3-tahun?extParam=ivf%3Dfalse%26shop_tier%3D2%26src%3Dsearch&refined=true', 'price': 1950000, 'price_original': 1950000}, {'name': 'Processor Intel Core i3 10100F LGA 1200 TRAY+fan GARANSI RESMI', 'link': 'https://www.tokopedia.com/yoestore/processor-intel-core-i3-10100f-lga-1200-tray-fan-garansi-resmi?extParam=ivf%3Dfalse%26shop_tier%3D2%26src%3Dsearch&refined=true', 'price': 1060000, 'price_original': 1060000}, {'name': 'Processor INTEL Core i3-13100F Box 4.5GHz LGA1700- Intel I3 13100F Box', 'link': 'https://www.tokopedia.com/dbclick/processor-intel-core-i3-13100f-box-4-5ghz-lga1700-intel-i3-13100f-box?extParam=ivf%3Dfalse%26shop_tier%3D2%26src%3Dsearch&refined=true', 'price': 2100000, 'price_original': 2100000}, {'name': 'Processor Intel Core I3 13100F Box Raptor Lake Socket LGA 1700', 'link': 'https://www.tokopedia.com/ragamhardisk/processor-intel-core-i3-13100f-box-raptor-lake-socket-lga-1700?extParam=ivf%3Dfalse%26shop_tier%3D2%26src%3Dsearch&refined=true', 'price': 1915000, 'price_original': 1915000}, {'name': 'Processor INTEL Core i3-13100 Box 4.5GHz LGA1700 - Intel I3 13100 Box', 'link': 'https://www.tokopedia.com/dbklikindonesia/processor-intel-core-i3-13100-box-4-5ghz-lga1700-intel-i3-13100-box?extParam=ivf%3Dfalse%26shop_tier%3D2%26src%3Dsearch&refined=true', 'price': 2465000, 'price_original': 2465000}, {'name': 'Processor Intel Core I3 10105F Box Comet Lake Socket LGA 1200', 'link': 'https://www.tokopedia.com/ezzycom/processor-intel-core-i3-10105f-box-comet-lake-socket-lga-1200?extParam=ivf%3Dfalse%26shop_tier%3D2%26src%3Dsearch&refined=true', 'price': 1030000, 'price_original': 1240000}, {'name': 'PROCESSOR iNTEL CORE I3 12100F ALDER LAKE LGA1700 4 CORES 8 THREAD', 'link': 'https://www.tokopedia.com/sj-com/processor-intel-core-i3-12100f-alder-lake-lga1700-4-cores-8-thread?extParam=ivf%3Dfalse%26shop_tier%3D2%26src%3Dsearch%26whid%3D21653&refined=true', 'price': 1690000, 'price_original': 1690000}, {'name': 'Processor Intel Core I3-10100F Box LGA1200 - Proc Intel Core I3 10100F', 'link': 'https://www.tokopedia.com/dbklikse/processor-intel-core-i3-10100f-box-lga1200-proc-intel-core-i3-10100f?extParam=ivf%3Dfalse%26shop_tier%3D2%26src%3Dsearch&refined=true', 'price': 1180000, 'price_original': 1180000}, {'name': 'Processor Intel Core I3-10105 Box 3.7GHz LGA1200 Intel I3 10105 Box...', 'link': 'https://www.tokopedia.com/dbklikyogya/processor-intel-core-i3-10105-box-3-7ghz-lga1200-intel-i3-10105-box?extParam=ivf%3Dfalse%26shop_tier%3D2%26src%3Dsearch&refined=true', 'price': 1640000, 'price_original': 1640000}, {'name': 'PROCESSOR CORE I3 4160 LGA 1150 + FAN (3M Cache, 3.6 Ghz)', 'link': 'https://www.tokopedia.com/yoestore/processor-core-i3-4160-lga-1150-fan-3m-cache-3-6-ghz?extParam=ivf%3Dfalse%26shop_tier%3D2%26src%3Dsearch&refined=true', 'price': 650000, 'price_original': 650000}, {'name': 'Processor Intel Core I3-10105 Box 3.7GHz LGA1200 - Intel I3 10105 Box', 'link': 'https://www.tokopedia.com/dbklikmalang-21/processor-intel-core-i3-10105-box-3-7ghz-lga1200-intel-i3-10105-box?extParam=ivf%3Dfalse%26shop_tier%3D2%26src%3Dsearch&refined=true', 'price': 1640000, 'price_original': 1640000}, {'name': 'Processor Intel Core i3 10100 Box / Intel Core i3-10100 Box', 'link': 'https://www.tokopedia.com/ezzycom/processor-intel-core-i3-10100-box-intel-core-i3-10100-box?extParam=ivf%3Dfalse%26shop_tier%3D2%26src%3Dsearch&refined=true', 'price': 1519000, 'price_original': 1850000}, {'name': 'Processor Intel Core I3-10105 Box 3.7GHz LGA1200 - Intel I3 10105 Box', 'link': 'https://www.tokopedia.com/dbklikse/processor-intel-core-i3-10105-box-3-7ghz-lga1200-intel-i3-10105-box?extParam=ivf%3Dfalse%26shop_tier%3D2%26src%3Dsearch&refined=true', 'price': 1640000, 'price_original': 1640000}, {'name': 'PROCESSOR INTEL I3 12100F BOX LGA 1700 - CPU CORE I3-12100F LGA1700', 'link': 'https://www.tokopedia.com/wpg-official/processor-intel-i3-12100f-box-lga-1700-cpu-core-i3-12100f-lga1700?extParam=ivf%3Dfalse%26shop_tier%3D2%26src%3Dsearch&refined=true', 'price': 1713000, 'price_original': 1713000}, {'name': 'Processor i3 3240 / i3-3240 Tray', 'link': 'https://www.tokopedia.com/hanscomputer/processor-i3-3240-i3-3240-tray-i3-3240?extParam=ivf%3Dfalse%26shop_tier%3D2%26src%3Dsearch&refined=true', 'price': 325000, 'price_original': 325000}, {'name': 'Processor Intel Core i3 12100F LGA 1700 BOX', 'link': 'https://www.tokopedia.com/elscomputer/processor-intel-core-i3-12100f-lga-1700-box?extParam=ivf%3Dfalse%26shop_tier%3D2%26src%3Dsearch%26whid%3D7285&refined=true', 'price': 1689000, 'price_original': 1739000}, {'name': 'Processor INTEL Core i3-12100F Box 3.3GHz LGA1700- Intel I3 12100F Box', 'link': 'https://www.tokopedia.com/dbklikindonesia/processor-intel-core-i3-12100f-box-3-3ghz-lga1700-intel-i3-12100f-box?extParam=ivf%3Dfalse%26shop_tier%3D2%26src%3Dsearch&refined=true', 'price': 1650000, 'price_original': 1650000}, {'name': 'Processor Intel Core i3 13100 3.4GHz Up To 4.8GHz - [Box] LGA 1700', 'link': 'https://www.tokopedia.com/citra-com/processor-intel-core-i3-13100-3-4ghz-up-to-4-8ghz-box-lga-1700?extParam=ivf%3Dfalse%26shop_tier%3D2%26src%3Dsearch&refined=true', 'price': 2640000, 'price_original': 2640000}, {'name': 'Processor Intel Core I3-10100F Box LGA1200', 'link': 'https://www.tokopedia.com/dbklikyogya/processor-intel-core-i3-10100f-box-lga1200?extParam=ivf%3Dfalse%26shop_tier%3D2%26src%3Dsearch&refined=true', 'price': 1180000, 'price_original': 1180000}, {'name': 'Processor INTEL Core i3-12100 Box 3.3GHz LGA1700 - Intel I3 12100 Box', 'link': 'https://www.tokopedia.com/dbklikindonesia/processor-intel-core-i3-12100-box-3-3ghz-lga1700-intel-i3-12100-box?extParam=ivf%3Dfalse%26shop_tier%3D2%26src%3Dsearch&refined=true', 'price': 2035000, 'price_original': 2035000}, {'name': 'Processor Intel Core i3 13100 3.4GHz Up To 4.8GHz - [Box] LGA 1700', 'link': 'https://www.tokopedia.com/multikomputer201/processor-intel-core-i3-13100-3-4ghz-up-to-4-8ghz-box-lga-1700?extParam=ivf%3Dfalse%26shop_tier%3D2%26src%3Dsearch&refined=true', 'price': 2640000, 'price_original': 2640000}, {'name': 'PROCESSOR CORE I3 4150 LGA 1150 + FAN (3M Cache, 3.5 Ghz)', 'link': 'https://www.tokopedia.com/yoestore/processor-core-i3-4150-lga-1150-fan-3m-cache-3-5-ghz?extParam=ivf%3Dfalse%26shop_tier%3D2%26src%3Dsearch&refined=true', 'price': 365000, 'price_original': 365000}, {'name': 'Processor Intel Core i3-12100 Up To 4.3GHz Socket LGA 1700 Alder Lake', 'link': 'https://www.tokopedia.com/eseskomputertasikmalaya/processor-intel-core-i3-12100-up-to-4-3ghz-socket-lga-1700-alder-lake?extParam=ivf%3Dfalse%26shop_tier%3D2%26src%3Dsearch&refined=true', 'price': 2230000, 'price_original': 2230000}, {'name': 'Processor Intel Core i3 10105F LGA 1200 BOX', 'link': 'https://www.tokopedia.com/elscomputer/processor-intel-core-i3-10105f-lga-1200-box?extParam=ivf%3Dfalse%26shop_tier%3D2%26src%3Dsearch%26whid%3D7285&refined=true', 'price': 1219000, 'price_original': 1279000}, {'name': 'Intel Core I3 13100F Box Raptor Lake Socket LGA 1700 Processor 13100 F', 'link': 'https://www.tokopedia.com/sj-com/intel-core-i3-13100f-box-raptor-lake-socket-lga-1700-processor-13100-f?extParam=ivf%3Dfalse%26shop_tier%3D2%26src%3Dsearch&refined=true', 'price': 2060000, 'price_original': 2060000}, {'name': 'PROCESSOR INTEL CORE I3 12100 3.30 GHz BOX SOCKET 1700 GARANSI RESMI', 'link': 'https://www.tokopedia.com/planetcomputer/processor-intel-core-i3-12100-3-30-ghz-box-socket-1700-garansi-resmi?extParam=ivf%3Dfalse%26shop_tier%3D2%26src%3Dsearch%26whid%3D9368297&refined=true', 'price': 2306000, 'price_original': 2306000}, {'name': 'Processor Intel Core i3 12100 TRAY LGA1700', 'link': 'https://www.tokopedia.com/elscomputer/processor-intel-core-i3-12100-tray-lga1700?extParam=ivf%3Dfalse%26shop_tier%3D2%26src%3Dsearch&refined=true', 'price': 2059000, 'price_original': 2059000}, {'name': 'Processor Intel Core i3-12100 UHD Alder Lake (BOX)', 'link': 'https://www.tokopedia.com/elscomputer/processor-intel-core-i3-12100-uhd-alder-lake-box?extParam=ivf%3Dfalse%26shop_tier%3D2%26src%3Dsearch&refined=true', 'price': 2159000, 'price_original': 2159000}, {'name': 'PROCESSOR INTEL CORE I3 6100 LGA 1151 TRAY', 'link': 'https://www.tokopedia.com/sj-com/processor-intel-core-i3-6100-lga-1151-tray?extParam=ivf%3Dfalse%26shop_tier%3D2%26src%3Dsearch%26whid%3D21653&refined=true', 'price': 435000, 'price_original': 435000}, {'name': 'Processor INTEL Core i3-13100F Box 4.5GHz LGA1700- Intel I3 13100F Box', 'link': 'https://www.tokopedia.com/dbklikyogya/processor-intel-core-i3-13100f-box-4-5ghz-lga1700-intel-i3-13100f-box?extParam=ivf%3Dfalse%26shop_tier%3D2%26src%3Dsearch&refined=true', 'price': 2090000, 'price_original': 2090000}, {'name': 'Processor Intel Core I3 10100F Tray Comet Lake Socket LGA 1200 + Fan', 'link': 'https://www.tokopedia.com/ragamhardisk/processor-intel-core-i3-10100f-tray-comet-lake-socket-lga-1200-fan?extParam=ivf%3Dfalse%26shop_tier%3D2%26src%3Dsearch&refined=true', 'price': 1020000, 'price_original': 1020000}, {'name': 'PROCESSOR INTEL I3 10100F BOX LGA 1200 - CPU CORE I3-10100F', 'link': 'https://www.tokopedia.com/wpg-official/processor-intel-i3-10100f-box-lga-1200-cpu-core-i3-10100f?extParam=ivf%3Dfalse%26shop_tier%3D2%26src%3Dsearch&refined=true', 'price': 1284000, 'price_original': 1284000}, {'name': 'Intel Core i3 10100 Processor Comet Lake-S LGA 1200 4 Core Gen 10', 'link': 'https://www.tokopedia.com/duniastorage/intel-core-i3-10100-processor-comet-lake-s-lga-1200-4-core-gen-10?extParam=ivf%3Dfalse%26shop_tier%3D2%26src%3Dsearch&refined=true', 'price': 1715000, 'price_original': 1715000}, {'name': 'Processor INTEL Core i3-12100 Box 3.3GHz LGA1700 - Intel I3 12100 Box', 'link': 'https://www.tokopedia.com/dbclick/processor-intel-core-i3-12100-box-3-3ghz-lga1700-intel-i3-12100-box?extParam=ivf%3Dfalse%26shop_tier%3D2%26src%3Dsearch%26whid%3D70055&refined=true', 'price': 2045000, 'price_original': 2045000}, {'name': 'Processor INTEL Core i3-13100 Box 4.5GHz LGA1700 - Intel I3 13100 Box', 'link': 'https://www.tokopedia.com/dbklikyogya/processor-intel-core-i3-13100-box-4-5ghz-lga1700-intel-i3-13100-box?extParam=ivf%3Dfalse%26shop_tier%3D2%26src%3Dsearch&refined=true', 'price': 2465000, 'price_original': 2465000}, {'name': 'PROCESSOR INTEL CORE I3 6100 TRAY PLUS FAN ORI SOCKET 1151', 'link': 'https://www.tokopedia.com/yoestore/processor-intel-core-i3-6100-tray-plus-fan-ori-socket-1151?extParam=ivf%3Dfalse%26shop_tier%3D2%26src%3Dsearch&refined=true', 'price': 1609000, 'price_original': 1609000}, {'name': 'Processor INTEL Core i3-12100F Box 3.3GHz LGA1700- Intel I3 12100F Box', 'link': 'https://www.tokopedia.com/dbklikmalang-21/processor-intel-core-i3-12100f-box-3-3ghz-lga1700-intel-i3-12100f-box?extParam=ivf%3Dfalse%26shop_tier%3D2%26src%3Dsearch&refined=true', 'price': 1650000, 'price_original': 1650000}, {'name': 'PROCESSOR INTEL I3 10105 BOX LGA 1200 - CPU CORE I3-10105', 'link': 'https://www.tokopedia.com/wpg-official/processor-intel-i3-10105-box-lga-1200-cpu-core-i3-10105?extParam=ivf%3Dfalse%26shop_tier%3D2%26src%3Dsearch&refined=true', 'price': 1827000, 'price_original': 1827000}]\n"
     ]
    }
   ],
   "source": [
    "products = []\n",
    "\n",
    "for element in elements:\n",
    "    name = element.text\n",
    "    parent = element.find_element(By.XPATH, \"./..\")\n",
    "\n",
    "    product = {}\n",
    "    product['name'] = name\n",
    "    \n",
    "\n",
    "    try:\n",
    "        link = parent.get_attribute(\"href\")\n",
    "        product['link'] = link\n",
    "    except Exception as e:\n",
    "        pass\n",
    "\n",
    "    try:\n",
    "        \n",
    "        price_element = parent.find_element(By.CLASS_NAME, \"prd_link-product-price\")\n",
    "        price = get_numeric_price(price_element.text)\n",
    "        product['price'] = price\n",
    "    except Exception as e:\n",
    "        pass\n",
    "\n",
    "    try:\n",
    "        price_original_element = parent.find_element(By.CLASS_NAME, \"prd_label-product-slash-price\")\n",
    "        price_original = get_numeric_price(price_original_element.text)\n",
    "        product['price_original'] = price_original\n",
    "    \n",
    "    except Exception as e:\n",
    "        product['price_original'] = product['price']\n",
    "\n",
    "\n",
    "    products.append(product)\n",
    "\n",
    "print(products)\n",
    "    "
   ]
  },
  {
   "cell_type": "code",
   "execution_count": 6,
   "metadata": {},
   "outputs": [
    {
     "data": {
      "text/html": [
       "<div>\n",
       "<style scoped>\n",
       "    .dataframe tbody tr th:only-of-type {\n",
       "        vertical-align: middle;\n",
       "    }\n",
       "\n",
       "    .dataframe tbody tr th {\n",
       "        vertical-align: top;\n",
       "    }\n",
       "\n",
       "    .dataframe thead th {\n",
       "        text-align: right;\n",
       "    }\n",
       "</style>\n",
       "<table border=\"1\" class=\"dataframe\">\n",
       "  <thead>\n",
       "    <tr style=\"text-align: right;\">\n",
       "      <th></th>\n",
       "      <th>name</th>\n",
       "      <th>link</th>\n",
       "      <th>price</th>\n",
       "      <th>price_original</th>\n",
       "    </tr>\n",
       "  </thead>\n",
       "  <tbody>\n",
       "    <tr>\n",
       "      <th>0</th>\n",
       "      <td>Intel Core i3-12100 3.3GHz Up To 4.3GHz Proces...</td>\n",
       "      <td>https://ta.tokopedia.com/promo/v1/clicks/8a-xg...</td>\n",
       "      <td>2055000</td>\n",
       "      <td>2232000</td>\n",
       "    </tr>\n",
       "    <tr>\n",
       "      <th>1</th>\n",
       "      <td>Intel Core i3 12100 4 Core 8 Thread LGA1700 Al...</td>\n",
       "      <td>https://ta.tokopedia.com/promo/v1/clicks/8a-xg...</td>\n",
       "      <td>2079000</td>\n",
       "      <td>2079000</td>\n",
       "    </tr>\n",
       "    <tr>\n",
       "      <th>2</th>\n",
       "      <td>Intel Core i3 13100 - 4 Core 8 Threads 4.50GHz...</td>\n",
       "      <td>https://ta.tokopedia.com/promo/v1/clicks/8a-xg...</td>\n",
       "      <td>2527000</td>\n",
       "      <td>2527000</td>\n",
       "    </tr>\n",
       "    <tr>\n",
       "      <th>3</th>\n",
       "      <td>Intel Core i5 13500 - Cache 24MB| Processor In...</td>\n",
       "      <td>https://ta.tokopedia.com/promo/v1/clicks/8a-xg...</td>\n",
       "      <td>4199999</td>\n",
       "      <td>4500000</td>\n",
       "    </tr>\n",
       "    <tr>\n",
       "      <th>4</th>\n",
       "      <td>Intel Core i5 12400 Box 2.5GHz LGA1700 Process...</td>\n",
       "      <td>https://ta.tokopedia.com/promo/v1/clicks/8a-xg...</td>\n",
       "      <td>2974000</td>\n",
       "      <td>2974000</td>\n",
       "    </tr>\n",
       "  </tbody>\n",
       "</table>\n",
       "</div>"
      ],
      "text/plain": [
       "                                                name   \n",
       "0  Intel Core i3-12100 3.3GHz Up To 4.3GHz Proces...  \\\n",
       "1  Intel Core i3 12100 4 Core 8 Thread LGA1700 Al...   \n",
       "2  Intel Core i3 13100 - 4 Core 8 Threads 4.50GHz...   \n",
       "3  Intel Core i5 13500 - Cache 24MB| Processor In...   \n",
       "4  Intel Core i5 12400 Box 2.5GHz LGA1700 Process...   \n",
       "\n",
       "                                                link    price  price_original  \n",
       "0  https://ta.tokopedia.com/promo/v1/clicks/8a-xg...  2055000         2232000  \n",
       "1  https://ta.tokopedia.com/promo/v1/clicks/8a-xg...  2079000         2079000  \n",
       "2  https://ta.tokopedia.com/promo/v1/clicks/8a-xg...  2527000         2527000  \n",
       "3  https://ta.tokopedia.com/promo/v1/clicks/8a-xg...  4199999         4500000  \n",
       "4  https://ta.tokopedia.com/promo/v1/clicks/8a-xg...  2974000         2974000  "
      ]
     },
     "execution_count": 6,
     "metadata": {},
     "output_type": "execute_result"
    }
   ],
   "source": [
    "import pandas as pd\n",
    "\n",
    "df = pd.DataFrame(products)\n",
    "df.head()"
   ]
  },
  {
   "cell_type": "code",
   "execution_count": 9,
   "metadata": {},
   "outputs": [],
   "source": [
    "df.to_csv('output/tokopedia/processor_i3.csv')"
   ]
  },
  {
   "cell_type": "code",
   "execution_count": 7,
   "metadata": {},
   "outputs": [
    {
     "data": {
      "text/plain": [
       "(66, 4)"
      ]
     },
     "execution_count": 7,
     "metadata": {},
     "output_type": "execute_result"
    }
   ],
   "source": [
    "df.shape"
   ]
  }
 ],
 "metadata": {
  "kernelspec": {
   "display_name": ".venv",
   "language": "python",
   "name": "python3"
  },
  "language_info": {
   "codemirror_mode": {
    "name": "ipython",
    "version": 3
   },
   "file_extension": ".py",
   "mimetype": "text/x-python",
   "name": "python",
   "nbconvert_exporter": "python",
   "pygments_lexer": "ipython3",
   "version": "3.10.10"
  },
  "orig_nbformat": 4
 },
 "nbformat": 4,
 "nbformat_minor": 2
}
